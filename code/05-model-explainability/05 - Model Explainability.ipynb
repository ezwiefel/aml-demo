{
 "cells": [
  {
   "cell_type": "code",
   "execution_count": null,
   "metadata": {},
   "outputs": [],
   "source": [
    "from azureml.core import Workspace, Experiment, Run\n",
    "from sklearn.externals import joblib\n",
    "import pandas as pd\n",
    "from sklearn.model_selection import train_test_split\n",
    "import os\n",
    "from azureml.contrib.explain.model.visualize import ExplanationDashboard\n",
    "from azureml.explain.model.tabular_explainer import TabularExplainer\n",
    "from azureml.contrib.explain.model.explanation.explanation_client import ExplanationClient\n",
    "from tqdm import tqdm\n",
    "import warnings\n",
    "warnings.filterwarnings(\"ignore\", message='l1_reg=\"auto\" is deprecated')\n",
    "\n",
    "DATA_PATH = \"../../data/\""
   ]
  },
  {
   "cell_type": "code",
   "execution_count": null,
   "metadata": {},
   "outputs": [],
   "source": [
    "ws = Workspace.from_config()\n",
    "\n",
    "experiment_name = 'diabetes_regression'\n",
    "experiment = Experiment(workspace=ws, name=experiment_name)"
   ]
  },
  {
   "cell_type": "code",
   "execution_count": null,
   "metadata": {},
   "outputs": [],
   "source": [
    "def find_best_run(experiment, metric, goal='minimize'):\n",
    "    runs = {}\n",
    "    run_metrics = {}\n",
    "\n",
    "    # Create dictionaries containing the runs and the metrics for all runs containing the 'mse' metric\n",
    "    for r in tqdm(experiment.get_runs(include_children=True)):\n",
    "        metrics = r.get_metrics()\n",
    "        if 'rmse' in metrics.keys():\n",
    "            runs[r.id] = r\n",
    "            run_metrics[r.id] = metrics\n",
    "    \n",
    "    if goal == 'minimize':\n",
    "        min_run = min(run_metrics, key=lambda k: run_metrics[k][metric])\n",
    "        return runs[min_run]\n",
    "    else:\n",
    "        max_run = max(run_metrics, key=lambda k: run_metrics[k][metric])\n",
    "        return runs[max_run]"
   ]
  },
  {
   "cell_type": "markdown",
   "metadata": {},
   "source": [
    "### Reload a previously trained model from our Run History"
   ]
  },
  {
   "cell_type": "code",
   "execution_count": null,
   "metadata": {},
   "outputs": [],
   "source": [
    "hx_run = find_best_run(experiment, 'rmse')\n",
    "client = ExplanationClient.from_run(hx_run)"
   ]
  },
  {
   "cell_type": "code",
   "execution_count": null,
   "metadata": {},
   "outputs": [],
   "source": [
    "# Download previously captured model explanation\n",
    "global_explanation = client.download_model_explanation()"
   ]
  },
  {
   "cell_type": "markdown",
   "metadata": {},
   "source": [
    "### Download saved model file\n",
    "```python\n",
    "# You can also download a registered model\n",
    "mdl = ws.models['diabetes_regression_model']\n",
    "mdl.download('./model')```"
   ]
  },
  {
   "cell_type": "code",
   "execution_count": null,
   "metadata": {},
   "outputs": [],
   "source": [
    "# Get the model file and download to a \"model\" folder\n",
    "os.makedirs('model', exist_ok=True)\n",
    "\n",
    "hx_run.download_file(\"outputs/model.pkl\", \"./model\")"
   ]
  },
  {
   "cell_type": "markdown",
   "metadata": {},
   "source": [
    "### Load the model into memory"
   ]
  },
  {
   "cell_type": "code",
   "execution_count": null,
   "metadata": {},
   "outputs": [],
   "source": [
    "# Unpickle model\n",
    "best_model = joblib.load('./model/model.pkl')"
   ]
  },
  {
   "cell_type": "markdown",
   "metadata": {},
   "source": [
    "### Load a training/testing dataset"
   ]
  },
  {
   "cell_type": "code",
   "execution_count": null,
   "metadata": {},
   "outputs": [],
   "source": [
    "diabetes_df = pd.read_csv(os.path.join(DATA_PATH,\"diabetes.csv\"))\n",
    "\n",
    "diabetes_df.columns\n",
    "\n",
    "y = diabetes_df.pop('target').values\n",
    "X = diabetes_df.values\n",
    "\n",
    "X_train, X_test, y_train, y_test = train_test_split(X, y, test_size=0.2, random_state=0)\n",
    "\n",
    "print (f\"Data contains {len(X_train)} training samples and {len(X_test)} test samples\")"
   ]
  },
  {
   "cell_type": "markdown",
   "metadata": {},
   "source": [
    "### Show Explanation Dashboard from the loaded explanation and model files"
   ]
  },
  {
   "cell_type": "code",
   "execution_count": null,
   "metadata": {},
   "outputs": [],
   "source": [
    "ExplanationDashboard(global_explanation, best_model, X_test)"
   ]
  },
  {
   "cell_type": "code",
   "execution_count": null,
   "metadata": {},
   "outputs": [],
   "source": [
    "from azureml.widgets import RunDetails\n",
    "RunDetails(hx_run).show()"
   ]
  },
  {
   "cell_type": "code",
   "execution_count": null,
   "metadata": {},
   "outputs": [],
   "source": []
  }
 ],
 "metadata": {
  "kernelspec": {
   "display_name": "Python 3.6 - AzureML",
   "language": "python",
   "name": "python3-azureml"
  },
  "language_info": {
   "codemirror_mode": {
    "name": "ipython",
    "version": 3
   },
   "file_extension": ".py",
   "mimetype": "text/x-python",
   "name": "python",
   "nbconvert_exporter": "python",
   "pygments_lexer": "ipython3",
   "version": "3.6.8"
  }
 },
 "nbformat": 4,
 "nbformat_minor": 2
}
