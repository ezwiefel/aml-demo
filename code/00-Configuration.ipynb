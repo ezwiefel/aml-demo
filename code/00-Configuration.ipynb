{
 "cells": [
  {
   "cell_type": "markdown",
   "metadata": {},
   "source": [
    "Copyright (c) Microsoft Corporation. All rights reserved.  \n",
    "\n",
    "Licensed under the MIT License."
   ]
  },
  {
   "cell_type": "code",
   "execution_count": 1,
   "metadata": {},
   "outputs": [],
   "source": [
    "# Import Workspace\n",
    "import os\n",
    "# import dotenv\n",
    "from azureml.core import Workspace, Datastore\n",
    "from azureml.exceptions import ProjectSystemException\n",
    "\n",
    "# _ = dotenv.load_dotenv('.env')"
   ]
  },
  {
   "cell_type": "markdown",
   "metadata": {},
   "source": [
    "# Create or Import Azure Machine Learning Workspace"
   ]
  },
  {
   "cell_type": "code",
   "execution_count": 2,
   "metadata": {},
   "outputs": [],
   "source": [
    "# Fetch Workspace Name, Resource Group and Subscription ID from environment variables\n",
    "# If these aren't defined as Env Vars, then replace the \"None\" entries below\n",
    "WORKSPACE_NAME = os.environ.get('AML_WORKSPACE', None)\n",
    "RESOURCE_GROUP = os.environ.get('AML_RG', None)\n",
    "SUBSCRIPTION_ID = os.environ.get('AML_SUB_ID', None)\n",
    "REGION_NAME = os.environ.get('AML_REGION', None)"
   ]
  },
  {
   "cell_type": "code",
   "execution_count": 3,
   "metadata": {},
   "outputs": [
    {
     "ename": "ValidationError",
     "evalue": "Parameter 'resource_group_name' can not be None.",
     "output_type": "error",
     "traceback": [
      "\u001b[0;31m---------------------------------------------------------------------------\u001b[0m",
      "\u001b[0;31mValidationError\u001b[0m                           Traceback (most recent call last)",
      "\u001b[0;32m<ipython-input-3-d5096a2d4a90>\u001b[0m in \u001b[0;36m<module>\u001b[0;34m\u001b[0m\n\u001b[1;32m      2\u001b[0m     ws = Workspace(subscription_id=SUBSCRIPTION_ID,\n\u001b[1;32m      3\u001b[0m                    \u001b[0mresource_group\u001b[0m\u001b[0;34m=\u001b[0m\u001b[0mRESOURCE_GROUP\u001b[0m\u001b[0;34m,\u001b[0m\u001b[0;34m\u001b[0m\u001b[0;34m\u001b[0m\u001b[0m\n\u001b[0;32m----> 4\u001b[0;31m                    workspace_name=WORKSPACE_NAME)\n\u001b[0m\u001b[1;32m      5\u001b[0m     \u001b[0mws\u001b[0m\u001b[0;34m.\u001b[0m\u001b[0mwrite_config\u001b[0m\u001b[0;34m(\u001b[0m\u001b[0;34m)\u001b[0m\u001b[0;34m\u001b[0m\u001b[0;34m\u001b[0m\u001b[0m\n\u001b[1;32m      6\u001b[0m \u001b[0;32mexcept\u001b[0m \u001b[0mProjectSystemException\u001b[0m\u001b[0;34m:\u001b[0m\u001b[0;34m\u001b[0m\u001b[0;34m\u001b[0m\u001b[0m\n",
      "\u001b[0;32m/anaconda/envs/py36/lib/python3.6/site-packages/azureml/core/workspace.py\u001b[0m in \u001b[0;36m__init__\u001b[0;34m(self, subscription_id, resource_group, workspace_name, auth, _location, _disable_service_check)\u001b[0m\n\u001b[1;32m     99\u001b[0m \u001b[0;34m\u001b[0m\u001b[0m\n\u001b[1;32m    100\u001b[0m         \u001b[0;32mif\u001b[0m \u001b[0;32mnot\u001b[0m \u001b[0m_disable_service_check\u001b[0m\u001b[0;34m:\u001b[0m\u001b[0;34m\u001b[0m\u001b[0;34m\u001b[0m\u001b[0m\n\u001b[0;32m--> 101\u001b[0;31m             \u001b[0mauto_rest_workspace\u001b[0m \u001b[0;34m=\u001b[0m \u001b[0m_commands\u001b[0m\u001b[0;34m.\u001b[0m\u001b[0mget_workspace\u001b[0m\u001b[0;34m(\u001b[0m\u001b[0mauth\u001b[0m\u001b[0;34m,\u001b[0m \u001b[0msubscription_id\u001b[0m\u001b[0;34m,\u001b[0m \u001b[0mresource_group\u001b[0m\u001b[0;34m,\u001b[0m \u001b[0mworkspace_name\u001b[0m\u001b[0;34m)\u001b[0m\u001b[0;34m\u001b[0m\u001b[0;34m\u001b[0m\u001b[0m\n\u001b[0m\u001b[1;32m    102\u001b[0m             \u001b[0mself\u001b[0m\u001b[0;34m.\u001b[0m\u001b[0m_workspace_autorest_object\u001b[0m \u001b[0;34m=\u001b[0m \u001b[0mauto_rest_workspace\u001b[0m\u001b[0;34m\u001b[0m\u001b[0;34m\u001b[0m\u001b[0m\n\u001b[1;32m    103\u001b[0m \u001b[0;34m\u001b[0m\u001b[0m\n",
      "\u001b[0;32m/anaconda/envs/py36/lib/python3.6/site-packages/azureml/_project/_commands.py\u001b[0m in \u001b[0;36mget_workspace\u001b[0;34m(auth, subscription_id, resource_group_name, workspace_name)\u001b[0m\n\u001b[1;32m    339\u001b[0m             \u001b[0mworkspaces\u001b[0m\u001b[0;34m,\u001b[0m\u001b[0;34m\u001b[0m\u001b[0;34m\u001b[0m\u001b[0m\n\u001b[1;32m    340\u001b[0m             \u001b[0mresource_group_name\u001b[0m\u001b[0;34m,\u001b[0m\u001b[0;34m\u001b[0m\u001b[0;34m\u001b[0m\u001b[0m\n\u001b[0;32m--> 341\u001b[0;31m             workspace_name)\n\u001b[0m\u001b[1;32m    342\u001b[0m     \u001b[0;32mexcept\u001b[0m \u001b[0mErrorResponseWrapperException\u001b[0m \u001b[0;32mas\u001b[0m \u001b[0mresponse_exception\u001b[0m\u001b[0;34m:\u001b[0m\u001b[0;34m\u001b[0m\u001b[0;34m\u001b[0m\u001b[0m\n\u001b[1;32m    343\u001b[0m         module_logger.error(\n",
      "\u001b[0;32m/anaconda/envs/py36/lib/python3.6/site-packages/azureml/_base_sdk_common/workspace/operations/workspaces_operations.py\u001b[0m in \u001b[0;36mget\u001b[0;34m(self, resource_group_name, workspace_name, custom_headers, raw, **operation_config)\u001b[0m\n\u001b[1;32m     59\u001b[0m         path_format_arguments = {\n\u001b[1;32m     60\u001b[0m             \u001b[0;34m'subscriptionId'\u001b[0m\u001b[0;34m:\u001b[0m \u001b[0mself\u001b[0m\u001b[0;34m.\u001b[0m\u001b[0m_serialize\u001b[0m\u001b[0;34m.\u001b[0m\u001b[0murl\u001b[0m\u001b[0;34m(\u001b[0m\u001b[0;34m\"self.config.subscription_id\"\u001b[0m\u001b[0;34m,\u001b[0m \u001b[0mself\u001b[0m\u001b[0;34m.\u001b[0m\u001b[0mconfig\u001b[0m\u001b[0;34m.\u001b[0m\u001b[0msubscription_id\u001b[0m\u001b[0;34m,\u001b[0m \u001b[0;34m'str'\u001b[0m\u001b[0;34m)\u001b[0m\u001b[0;34m,\u001b[0m\u001b[0;34m\u001b[0m\u001b[0;34m\u001b[0m\u001b[0m\n\u001b[0;32m---> 61\u001b[0;31m             \u001b[0;34m'resourceGroupName'\u001b[0m\u001b[0;34m:\u001b[0m \u001b[0mself\u001b[0m\u001b[0;34m.\u001b[0m\u001b[0m_serialize\u001b[0m\u001b[0;34m.\u001b[0m\u001b[0murl\u001b[0m\u001b[0;34m(\u001b[0m\u001b[0;34m\"resource_group_name\"\u001b[0m\u001b[0;34m,\u001b[0m \u001b[0mresource_group_name\u001b[0m\u001b[0;34m,\u001b[0m \u001b[0;34m'str'\u001b[0m\u001b[0;34m)\u001b[0m\u001b[0;34m,\u001b[0m\u001b[0;34m\u001b[0m\u001b[0;34m\u001b[0m\u001b[0m\n\u001b[0m\u001b[1;32m     62\u001b[0m             \u001b[0;34m'workspaceName'\u001b[0m\u001b[0;34m:\u001b[0m \u001b[0mself\u001b[0m\u001b[0;34m.\u001b[0m\u001b[0m_serialize\u001b[0m\u001b[0;34m.\u001b[0m\u001b[0murl\u001b[0m\u001b[0;34m(\u001b[0m\u001b[0;34m\"workspace_name\"\u001b[0m\u001b[0;34m,\u001b[0m \u001b[0mworkspace_name\u001b[0m\u001b[0;34m,\u001b[0m \u001b[0;34m'str'\u001b[0m\u001b[0;34m)\u001b[0m\u001b[0;34m\u001b[0m\u001b[0;34m\u001b[0m\u001b[0m\n\u001b[1;32m     63\u001b[0m         }\n",
      "\u001b[0;32m/anaconda/envs/py36/lib/python3.6/site-packages/msrest/serialization.py\u001b[0m in \u001b[0;36murl\u001b[0;34m(self, name, data, data_type, **kwargs)\u001b[0m\n\u001b[1;32m    590\u001b[0m         \"\"\"\n\u001b[1;32m    591\u001b[0m         \u001b[0;32mif\u001b[0m \u001b[0mself\u001b[0m\u001b[0;34m.\u001b[0m\u001b[0mclient_side_validation\u001b[0m\u001b[0;34m:\u001b[0m\u001b[0;34m\u001b[0m\u001b[0;34m\u001b[0m\u001b[0m\n\u001b[0;32m--> 592\u001b[0;31m             \u001b[0mdata\u001b[0m \u001b[0;34m=\u001b[0m \u001b[0mself\u001b[0m\u001b[0;34m.\u001b[0m\u001b[0mvalidate\u001b[0m\u001b[0;34m(\u001b[0m\u001b[0mdata\u001b[0m\u001b[0;34m,\u001b[0m \u001b[0mname\u001b[0m\u001b[0;34m,\u001b[0m \u001b[0mrequired\u001b[0m\u001b[0;34m=\u001b[0m\u001b[0;32mTrue\u001b[0m\u001b[0;34m,\u001b[0m \u001b[0;34m**\u001b[0m\u001b[0mkwargs\u001b[0m\u001b[0;34m)\u001b[0m\u001b[0;34m\u001b[0m\u001b[0;34m\u001b[0m\u001b[0m\n\u001b[0m\u001b[1;32m    593\u001b[0m         \u001b[0;32mtry\u001b[0m\u001b[0;34m:\u001b[0m\u001b[0;34m\u001b[0m\u001b[0;34m\u001b[0m\u001b[0m\n\u001b[1;32m    594\u001b[0m             \u001b[0moutput\u001b[0m \u001b[0;34m=\u001b[0m \u001b[0mself\u001b[0m\u001b[0;34m.\u001b[0m\u001b[0mserialize_data\u001b[0m\u001b[0;34m(\u001b[0m\u001b[0mdata\u001b[0m\u001b[0;34m,\u001b[0m \u001b[0mdata_type\u001b[0m\u001b[0;34m,\u001b[0m \u001b[0;34m**\u001b[0m\u001b[0mkwargs\u001b[0m\u001b[0;34m)\u001b[0m\u001b[0;34m\u001b[0m\u001b[0;34m\u001b[0m\u001b[0m\n",
      "\u001b[0;32m/anaconda/envs/py36/lib/python3.6/site-packages/msrest/serialization.py\u001b[0m in \u001b[0;36mvalidate\u001b[0;34m(cls, data, name, **kwargs)\u001b[0m\n\u001b[1;32m    660\u001b[0m         \u001b[0mrequired\u001b[0m \u001b[0;34m=\u001b[0m \u001b[0mkwargs\u001b[0m\u001b[0;34m.\u001b[0m\u001b[0mget\u001b[0m\u001b[0;34m(\u001b[0m\u001b[0;34m'required'\u001b[0m\u001b[0;34m,\u001b[0m \u001b[0;32mFalse\u001b[0m\u001b[0;34m)\u001b[0m\u001b[0;34m\u001b[0m\u001b[0;34m\u001b[0m\u001b[0m\n\u001b[1;32m    661\u001b[0m         \u001b[0;32mif\u001b[0m \u001b[0mrequired\u001b[0m \u001b[0;32mand\u001b[0m \u001b[0mdata\u001b[0m \u001b[0;32mis\u001b[0m \u001b[0;32mNone\u001b[0m\u001b[0;34m:\u001b[0m\u001b[0;34m\u001b[0m\u001b[0;34m\u001b[0m\u001b[0m\n\u001b[0;32m--> 662\u001b[0;31m             \u001b[0;32mraise\u001b[0m \u001b[0mValidationError\u001b[0m\u001b[0;34m(\u001b[0m\u001b[0;34m\"required\"\u001b[0m\u001b[0;34m,\u001b[0m \u001b[0mname\u001b[0m\u001b[0;34m,\u001b[0m \u001b[0;32mTrue\u001b[0m\u001b[0;34m)\u001b[0m\u001b[0;34m\u001b[0m\u001b[0;34m\u001b[0m\u001b[0m\n\u001b[0m\u001b[1;32m    663\u001b[0m         \u001b[0;32melif\u001b[0m \u001b[0mdata\u001b[0m \u001b[0;32mis\u001b[0m \u001b[0;32mNone\u001b[0m\u001b[0;34m:\u001b[0m\u001b[0;34m\u001b[0m\u001b[0;34m\u001b[0m\u001b[0m\n\u001b[1;32m    664\u001b[0m             \u001b[0;32mreturn\u001b[0m\u001b[0;34m\u001b[0m\u001b[0;34m\u001b[0m\u001b[0m\n",
      "\u001b[0;31mValidationError\u001b[0m: Parameter 'resource_group_name' can not be None."
     ]
    }
   ],
   "source": [
    "try:\n",
    "    ws = Workspace(subscription_id=SUBSCRIPTION_ID,\n",
    "                   resource_group=RESOURCE_GROUP,\n",
    "                   workspace_name=WORKSPACE_NAME)\n",
    "    ws.write_config()\n",
    "except ProjectSystemException:\n",
    "    print(\"Workspace Not Found - please create workspace using code below\")\n",
    "    print()\n",
    "    print('Workspace Name: \\t', WORKSPACE_NAME)\n",
    "    print('Resource Group: \\t', RESOURCE_GROUP)\n",
    "    print('Subscription ID: \\t', SUBSCRIPTION_ID)"
   ]
  },
  {
   "cell_type": "code",
   "execution_count": null,
   "metadata": {},
   "outputs": [],
   "source": [
    "# # If the above code fails, uncomment this code block to create a new Workspace\n",
    "# ws = Workspace.create(subscription_id=SUBSCRIPTION_ID,\n",
    "#                       resource_group=RESOURCE_GROUP,\n",
    "#                       name=WORKSPACE_NAME,\n",
    "#                       location=REGION_NAME)\n",
    "# ws.write_config()"
   ]
  },
  {
   "cell_type": "code",
   "execution_count": 4,
   "metadata": {},
   "outputs": [],
   "source": [
    "ws = Workspace.from_config()"
   ]
  },
  {
   "cell_type": "markdown",
   "metadata": {},
   "source": [
    "# Create CPU Cluster\n",
    "We can create a CPU-based AML Managed Compute Cluster"
   ]
  },
  {
   "cell_type": "code",
   "execution_count": 5,
   "metadata": {},
   "outputs": [],
   "source": [
    "from azureml.core.compute import AmlCompute"
   ]
  },
  {
   "cell_type": "code",
   "execution_count": 6,
   "metadata": {},
   "outputs": [
    {
     "name": "stdout",
     "output_type": "stream",
     "text": [
      "'cpu-cluster' found. Skipping cluster creation\n"
     ]
    }
   ],
   "source": [
    "cpu_cluster_name = 'cpu-cluster-west'\n",
    "\n",
    "if ws.compute_targets.get(cpu_cluster_name):\n",
    "    print(f\"'{cpu_cluster_name}' found. Skipping cluster creation\")\n",
    "    ct = ws.compute_targets[cpu_cluster_name]\n",
    "else:\n",
    "    print(f\"'{cpu_cluster_name}' not found. Creating a new AML Manged Compute cluster.\")\n",
    "    \n",
    "    cpu_config = AmlCompute.provisioning_configuration(vm_size='Standard_DS13_v2',\n",
    "                                                       vm_priority='dedicated',\n",
    "                                                       min_nodes=0,\n",
    "                                                       max_nodes=5,\n",
    "                                                       idle_seconds_before_scaledown=360,\n",
    "                                                       tags={'project_name': \"lab-demo\"},\n",
    "                                                       description=\"An AML Managed compute cluster leveraging DS Series VMs\"\n",
    "                                                      )\n",
    "    ct = AmlCompute.create(workspace=ws,\n",
    "                      name=cpu_cluster_name, \n",
    "                      provisioning_configuration=cpu_config)\n",
    "    ct.wait_for_completion(show_output=True)"
   ]
  },
  {
   "cell_type": "code",
   "execution_count": null,
   "metadata": {},
   "outputs": [],
   "source": []
  },
  {
   "cell_type": "code",
   "execution_count": null,
   "metadata": {},
   "outputs": [],
   "source": [
    "# # If you would like to see the supported VM sizes, you can get a list with the supported_vmsizes method\n",
    "# AmlCompute.supported_vmsizes(ws)"
   ]
  },
  {
   "cell_type": "markdown",
   "metadata": {},
   "source": [
    "# Create GPU Cluster"
   ]
  },
  {
   "cell_type": "code",
   "execution_count": null,
   "metadata": {},
   "outputs": [],
   "source": [
    "gpu_cluster_name = 'gpu-cluster'\n",
    "\n",
    "if ws.compute_targets.get(gpu_cluster_name):\n",
    "    print(f\"'{gpu_cluster_name}' found. Skipping cluster creation\")\n",
    "    ct = ws.compute_targets[gpu_cluster_name]\n",
    "else:\n",
    "    print(f\"'{gpu_cluster_name}' not found. Creating a new AML Manged Compute cluster.\")\n",
    "    \n",
    "    gpu_config = AmlCompute.provisioning_configuration(vm_size='Standard_NC6',\n",
    "                                                       vm_priority='dedicated',\n",
    "                                                       min_nodes=0,\n",
    "                                                       max_nodes=5,\n",
    "                                                       idle_seconds_before_scaledown=360,\n",
    "                                                       tags={'project_name': \"lab-demo\"},\n",
    "                                                       description=\"An AML Managed compute cluster leveraging NC Series VMs\"\n",
    "                                                      )\n",
    "    gpu_ct = AmlCompute.create(workspace=ws,\n",
    "                      name=gpu_cluster_name, \n",
    "                      provisioning_configuration=gpu_config)\n",
    "    gpu_ct.wait_for_completion(show_output=True)"
   ]
  },
  {
   "cell_type": "code",
   "execution_count": null,
   "metadata": {},
   "outputs": [],
   "source": [
    "# Verify clusters are created\n",
    "ct = ws.compute_targets['cpu-cluster']\n",
    "cs = ct.get_status()\n",
    "cs.serialize()"
   ]
  },
  {
   "cell_type": "markdown",
   "metadata": {},
   "source": [
    "## Attach Data Store"
   ]
  },
  {
   "cell_type": "code",
   "execution_count": 5,
   "metadata": {},
   "outputs": [],
   "source": [
    "BLOB_CONTAINER = os.environ.get(\"BLOB_CONTAINER_NAME\", \"diabetes\")\n",
    "BLOB_ACCOUNT = os.environ.get(\"BLOB_ACCT_NAME\", \"publicmldataeastus\")\n",
    "BLOB_ACCT_KEY = os.environ.get(\"BLOB_ACCT_KEY\", \"JzbwX/fvm/bjlQCkSfKGaxhVDuDAsQ22wZNwf6ngE3l/F/ArzfwJQDuJToT899dwwtVSpgrAClFR5aZ3JSvqwQ==\")"
   ]
  },
  {
   "cell_type": "code",
   "execution_count": 6,
   "metadata": {},
   "outputs": [
    {
     "name": "stdout",
     "output_type": "stream",
     "text": [
      "'diabetes' datastore not found. Registering with Workspace\n"
     ]
    }
   ],
   "source": [
    "datastore_name = 'diabetes'\n",
    "\n",
    "if ws.datastores.get(datastore_name):\n",
    "    print(f\"'{datastore_name}' datastore found. Skipping registration\")\n",
    "else:\n",
    "    print(f\"'{datastore_name}' datastore not found. Registering with Workspace\")\n",
    "    _ = Datastore.register_azure_blob_container(workspace=ws,\n",
    "                                                datastore_name='diabetes',\n",
    "                                                container_name=BLOB_CONTAINER,\n",
    "                                                account_name=BLOB_ACCOUNT,\n",
    "                                                account_key=BLOB_ACCT_KEY)"
   ]
  },
  {
   "cell_type": "code",
   "execution_count": 7,
   "metadata": {},
   "outputs": [
    {
     "name": "stdout",
     "output_type": "stream",
     "text": [
      "'hymenoptera' datastore not found. Registering with Workspace\n"
     ]
    }
   ],
   "source": [
    "datastore_name = 'hymenoptera'\n",
    "\n",
    "if ws.datastores.get(datastore_name):\n",
    "    print(f\"'{datastore_name}' datastore found. Skipping registration\")\n",
    "else:\n",
    "    print(f\"'{datastore_name}' datastore not found. Registering with Workspace\")\n",
    "    _ = Datastore.register_azure_blob_container(workspace=ws,\n",
    "                                                datastore_name='hymenoptera',\n",
    "                                                container_name='hymenoptera',\n",
    "                                                account_name=BLOB_ACCOUNT,\n",
    "                                                account_key=BLOB_ACCT_KEY)"
   ]
  },
  {
   "cell_type": "code",
   "execution_count": 8,
   "metadata": {},
   "outputs": [
    {
     "data": {
      "text/plain": [
       "{'workspacefilestore': <azureml.data.azure_storage_datastore.AzureFileDatastore at 0x7fa14d2c65c0>,\n",
       " 'workspaceblobstore': <azureml.data.azure_storage_datastore.AzureBlobDatastore at 0x7fa14d2df438>,\n",
       " 'publicmldataeastus__ameshousing': <azureml.data.azure_storage_datastore.AzureBlobDatastore at 0x7fa14d2df780>,\n",
       " 'diabetes': <azureml.data.azure_storage_datastore.AzureBlobDatastore at 0x7fa14d2dfac8>,\n",
       " 'hymenoptera': <azureml.data.azure_storage_datastore.AzureBlobDatastore at 0x7fa14d2dfdd8>}"
      ]
     },
     "execution_count": 8,
     "metadata": {},
     "output_type": "execute_result"
    }
   ],
   "source": [
    "ws.datastores"
   ]
  },
  {
   "cell_type": "code",
   "execution_count": null,
   "metadata": {},
   "outputs": [],
   "source": []
  }
 ],
 "metadata": {
  "kernelspec": {
   "display_name": "Python 3.6 - AzureML",
   "language": "python",
   "name": "python3-azureml"
  },
  "language_info": {
   "codemirror_mode": {
    "name": "ipython",
    "version": 3
   },
   "file_extension": ".py",
   "mimetype": "text/x-python",
   "name": "python",
   "nbconvert_exporter": "python",
   "pygments_lexer": "ipython3",
   "version": "3.6.8"
  }
 },
 "nbformat": 4,
 "nbformat_minor": 2
}
