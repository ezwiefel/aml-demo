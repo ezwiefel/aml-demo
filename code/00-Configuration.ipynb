{
 "cells": [
  {
   "cell_type": "markdown",
   "metadata": {},
   "source": [
    "Copyright (c) Microsoft Corporation. All rights reserved.  \n",
    "\n",
    "Licensed under the MIT License."
   ]
  },
  {
   "cell_type": "code",
   "execution_count": null,
   "metadata": {},
   "outputs": [],
   "source": [
    "# Import Workspace\n",
    "import os\n",
    "import dotenv\n",
    "from azureml.core import Workspace, Datastore\n",
    "from azureml.exceptions import ProjectSystemException\n",
    "\n",
    "_ = dotenv.load_dotenv('.env')"
   ]
  },
  {
   "cell_type": "markdown",
   "metadata": {},
   "source": [
    "# Create or Import Azure Machine Learning Workspace"
   ]
  },
  {
   "cell_type": "code",
   "execution_count": null,
   "metadata": {},
   "outputs": [],
   "source": [
    "# Fetch Workspace Name, Resource Group and Subscription ID from environment variables\n",
    "# If these aren't defined as Env Vars, then replace the \"None\" entries below\n",
    "WORKSPACE_NAME = os.environ.get('AML_WORKSPACE', None)\n",
    "RESOURCE_GROUP = os.environ.get('AML_RG', None)\n",
    "SUBSCRIPTION_ID = os.environ.get('AML_SUB_ID', None)\n",
    "REGION_NAME = os.environ.get('AML_REGION', None)"
   ]
  },
  {
   "cell_type": "code",
   "execution_count": null,
   "metadata": {},
   "outputs": [],
   "source": [
    "try:\n",
    "    ws = Workspace(subscription_id=SUBSCRIPTION_ID,\n",
    "                   resource_group=RESOURCE_GROUP,\n",
    "                   workspace_name=WORKSPACE_NAME)\n",
    "    ws.write_config()\n",
    "except ProjectSystemException:\n",
    "    print(\"Workspace Not Found - please create workspace using code below\")\n",
    "    print()\n",
    "    print('Workspace Name: \\t', WORKSPACE_NAME)\n",
    "    print('Resource Group: \\t', RESOURCE_GROUP)\n",
    "    print('Subscription ID: \\t', SUBSCRIPTION_ID)"
   ]
  },
  {
   "cell_type": "code",
   "execution_count": null,
   "metadata": {},
   "outputs": [],
   "source": [
    "# # If the above code fails, uncomment this code block to create a new Workspace\n",
    "# ws = Workspace.create(subscription_id=SUBSCRIPTION_ID,\n",
    "#                       resource_group=RESOURCE_GROUP,\n",
    "#                       name=WORKSPACE_NAME,\n",
    "#                       location=REGION_NAME)\n",
    "# ws.write_config()"
   ]
  },
  {
   "cell_type": "markdown",
   "metadata": {},
   "source": [
    "# Create CPU Cluster\n",
    "We can create a CPU-based AML Managed Compute Cluster"
   ]
  },
  {
   "cell_type": "code",
   "execution_count": null,
   "metadata": {},
   "outputs": [],
   "source": [
    "from azureml.core.compute import AmlCompute"
   ]
  },
  {
   "cell_type": "code",
   "execution_count": null,
   "metadata": {},
   "outputs": [],
   "source": [
    "cpu_cluster_name = 'cpu-cluster'\n",
    "\n",
    "if ws.compute_targets.get(cpu_cluster_name):\n",
    "    print(f\"'{cpu_cluster_name}' found. Skipping cluster creation\")\n",
    "    ct = ws.compute_targets[cpu_cluster_name]\n",
    "else:\n",
    "    print(f\"'{cpu_cluster_name}' not found. Creating a new AML Manged Compute cluster.\")\n",
    "    \n",
    "    cpu_config = AmlCompute.provisioning_configuration(vm_size='Standard_DS13_v2',\n",
    "                                                       vm_priority='dedicated',\n",
    "                                                       min_nodes=0,\n",
    "                                                       max_nodes=5,\n",
    "                                                       idle_seconds_before_scaledown=360,\n",
    "                                                       tags={'project_name': \"lab-demo\"},\n",
    "                                                       description=\"An AML Managed compute cluster leveraging DS Series VMs\"\n",
    "                                                      )\n",
    "    ct = AmlCompute.create(workspace=ws,\n",
    "                      name=cpu_cluster_name, \n",
    "                      provisioning_configuration=cpu_config)\n",
    "    ct.wait_for_completion(show_output=True)"
   ]
  },
  {
   "cell_type": "code",
   "execution_count": null,
   "metadata": {},
   "outputs": [],
   "source": [
    "# # If you would like to see the supported VM sizes, you can get a list with the supported_vmsizes method\n",
    "# AmlCompute.supported_vmsizes(ws)"
   ]
  },
  {
   "cell_type": "markdown",
   "metadata": {},
   "source": [
    "# Create GPU Cluster"
   ]
  },
  {
   "cell_type": "code",
   "execution_count": null,
   "metadata": {},
   "outputs": [],
   "source": [
    "gpu_cluster_name = 'gpu-cluster'\n",
    "\n",
    "if ws.compute_targets.get(gpu_cluster_name):\n",
    "    print(f\"'{gpu_cluster_name}' found. Skipping cluster creation\")\n",
    "    ct = ws.compute_targets[gpu_cluster_name]\n",
    "else:\n",
    "    print(f\"'{gpu_cluster_name}' not found. Creating a new AML Manged Compute cluster.\")\n",
    "    \n",
    "    gpu_config = AmlCompute.provisioning_configuration(vm_size='Standard_NC6',\n",
    "                                                       vm_priority='dedicated',\n",
    "                                                       min_nodes=0,\n",
    "                                                       max_nodes=5,\n",
    "                                                       idle_seconds_before_scaledown=360,\n",
    "                                                       tags={'project_name': \"lab-demo\"},\n",
    "                                                       description=\"An AML Managed compute cluster leveraging NC Series VMs\"\n",
    "                                                      )\n",
    "    gpu_ct = AmlCompute.create(workspace=ws,\n",
    "                      name=gpu_cluster_name, \n",
    "                      provisioning_configuration=gpu_config)\n",
    "    gpu_ct.wait_for_completion(show_output=True)"
   ]
  },
  {
   "cell_type": "code",
   "execution_count": null,
   "metadata": {},
   "outputs": [],
   "source": [
    "# Verify clusters are created\n",
    "ct = ws.compute_targets['cpu-cluster']\n",
    "cs = ct.get_status()\n",
    "cs.serialize()"
   ]
  },
  {
   "cell_type": "markdown",
   "metadata": {},
   "source": [
    "## Attach Data Store"
   ]
  },
  {
   "cell_type": "code",
   "execution_count": null,
   "metadata": {},
   "outputs": [],
   "source": [
    "BLOB_CONTAINER = os.environ.get(\"BLOB_CONTAINER_NAME\", None)\n",
    "BLOB_ACCOUNT = os.environ.get(\"BLOB_ACCT_NAME\", None)\n",
    "BLOB_ACCT_KEY = os.environ.get(\"BLOB_ACCT_KEY\", None)"
   ]
  },
  {
   "cell_type": "code",
   "execution_count": null,
   "metadata": {},
   "outputs": [],
   "source": [
    "datastore_name = 'diabetes'\n",
    "\n",
    "if ws.datastores.get(datastore_name):\n",
    "    print(f\"'{datastore_name}' datastore found. Skipping registration\")\n",
    "else:\n",
    "    print(f\"'{datastore_name}' datastore not found. Registering with Workspace\")\n",
    "    _ = Datastore.register_azure_blob_container(workspace=ws,\n",
    "                                                datastore_name='diabetes',\n",
    "                                                container_name=BLOB_CONTAINER,\n",
    "                                                account_name=BLOB_ACCOUNT,\n",
    "                                                account_key=BLOB_ACCT_KEY)"
   ]
  },
  {
   "cell_type": "code",
   "execution_count": null,
   "metadata": {},
   "outputs": [],
   "source": [
    "datastore_name = 'hymenoptera'\n",
    "\n",
    "if ws.datastores.get(datastore_name):\n",
    "    print(f\"'{datastore_name}' datastore found. Skipping registration\")\n",
    "else:\n",
    "    print(f\"'{datastore_name}' datastore not found. Registering with Workspace\")\n",
    "    _ = Datastore.register_azure_blob_container(workspace=ws,\n",
    "                                                datastore_name='hymenoptera',\n",
    "                                                container_name='hymenoptera',\n",
    "                                                account_name=BLOB_ACCOUNT,\n",
    "                                                account_key=BLOB_ACCT_KEY)"
   ]
  }
 ],
 "metadata": {
  "kernelspec": {
   "display_name": "Python [conda env:azureml-sdk]",
   "language": "python",
   "name": "conda-env-azureml-sdk-py"
  },
  "language_info": {
   "codemirror_mode": {
    "name": "ipython",
    "version": 3
   },
   "file_extension": ".py",
   "mimetype": "text/x-python",
   "name": "python",
   "nbconvert_exporter": "python",
   "pygments_lexer": "ipython3",
   "version": "3.6.8"
  }
 },
 "nbformat": 4,
 "nbformat_minor": 2
}
