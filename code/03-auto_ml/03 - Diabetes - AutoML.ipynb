{
 "cells": [
  {
   "cell_type": "code",
   "execution_count": null,
   "metadata": {},
   "outputs": [],
   "source": [
    "from azureml.core import Workspace, Experiment\n",
    "from azureml.train.automl import AutoMLConfig\n",
    "from azureml.widgets import RunDetails\n",
    "from azureml.core.runconfig import DataReferenceConfiguration, RunConfiguration\n",
    "from azureml.core.conda_dependencies import CondaDependencies\n",
    "import logging\n",
    "# from sklearn.model_selection import train_test_split\n",
    "\n",
    "# import pandas as pd\n",
    "# import seaborn as sns\n",
    "import os\n",
    "\n",
    "PROJECT_FOLDER = './automl_scripts'\n",
    "os.makedirs(PROJECT_FOLDER, exist_ok=True)"
   ]
  },
  {
   "cell_type": "code",
   "execution_count": null,
   "metadata": {},
   "outputs": [],
   "source": [
    "EXPERIMENT_NAME = 'diabetes_regression_automl'\n",
    "\n",
    "ws = Workspace.from_config()\n",
    "experiment = Experiment(ws, EXPERIMENT_NAME)\n",
    "\n",
    "cpu_cluster = ws.compute_targets['cpu-cluster']\n",
    "ds = ws.datastores['diabetes']"
   ]
  },
  {
   "cell_type": "code",
   "execution_count": null,
   "metadata": {},
   "outputs": [],
   "source": [
    "%%writefile $PROJECT_FOLDER/get_data.py\n",
    "import os\n",
    "import pandas as pd\n",
    "from sklearn.model_selection import train_test_split\n",
    "\n",
    "DATA_PATH = os.environ.get('DS_PATH')\n",
    "\n",
    "def get_data():\n",
    "    diabetes_df = pd.read_csv(os.path.join(DATA_PATH,\"diabetes.csv\"))\n",
    "\n",
    "    y = diabetes_df.pop('target').values\n",
    "    X = diabetes_df.values\n",
    "\n",
    "    X_train, X_test, y_train, y_test = train_test_split(X, y, test_size=0.2, random_state=0)\n",
    "\n",
    "    print (f\"Data contains {len(X_train)} training samples and {len(X_test)} test samples\")\n",
    "    \n",
    "    return {'X': X_train, 'X_valid': X_test, 'y': y_train, 'y_valid': y_test}"
   ]
  },
  {
   "cell_type": "code",
   "execution_count": null,
   "metadata": {},
   "outputs": [],
   "source": [
    "dr = DataReferenceConfiguration(datastore_name=ds.name, \n",
    "                                mode='mount',\n",
    "                                overwrite=False)\n",
    "\n",
    "aml_rc = RunConfiguration(framework=\"python\")\n",
    "\n",
    "aml_rc.target = cpu_cluster\n",
    "aml_rc.data_references = {ds.name: dr}\n",
    "aml_rc.environment.environment_variables = {\"DS_PATH\": f\"{ds.as_mount()}\"}\n",
    "\n",
    "aml_rc.environment.python.conda_dependencies = CondaDependencies.create(pip_packages=['azureml-sdk[automl]'], \n",
    "                                                                        conda_packages=['numpy', 'pandas'])\n"
   ]
  },
  {
   "cell_type": "code",
   "execution_count": null,
   "metadata": {},
   "outputs": [],
   "source": [
    "automl_settings = {\n",
    "    \"iteration_timeout_minutes\": 60,\n",
    "    \"iterations\": 20,\n",
    "    \"preprocess\": True,\n",
    "    \"max_cores_per_iteration\": -1,\n",
    "    \"max_concurrent_iterations\": 4,\n",
    "    \"verbosity\": logging.INFO\n",
    "}\n",
    "\n",
    "aml_config = AutoMLConfig(task=\"regression\",\n",
    "                          path=PROJECT_FOLDER,\n",
    "                          run_configuration=aml_rc,\n",
    "                          data_script=PROJECT_FOLDER+'/get_data.py',\n",
    "                          y_min=0,\n",
    "                          **automl_settings\n",
    "                         )"
   ]
  },
  {
   "cell_type": "code",
   "execution_count": null,
   "metadata": {},
   "outputs": [],
   "source": [
    "run = experiment.submit(aml_config)\n",
    "RunDetails(run).show()"
   ]
  },
  {
   "cell_type": "markdown",
   "metadata": {},
   "source": [
    "#### Continue the runs if desired"
   ]
  },
  {
   "cell_type": "code",
   "execution_count": null,
   "metadata": {},
   "outputs": [],
   "source": [
    "run.continue_experiment(iterations=5)\n",
    "RunDetails(run).show()"
   ]
  },
  {
   "cell_type": "code",
   "execution_count": null,
   "metadata": {},
   "outputs": [],
   "source": []
  }
 ],
 "metadata": {
  "kernelspec": {
   "display_name": "Python [conda env:azureml-sdk]",
   "language": "python",
   "name": "conda-env-azureml-sdk-py"
  },
  "language_info": {
   "codemirror_mode": {
    "name": "ipython",
    "version": 3
   },
   "file_extension": ".py",
   "mimetype": "text/x-python",
   "name": "python",
   "nbconvert_exporter": "python",
   "pygments_lexer": "ipython3",
   "version": "3.6.8"
  }
 },
 "nbformat": 4,
 "nbformat_minor": 2
}
