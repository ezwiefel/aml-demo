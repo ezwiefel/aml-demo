{
 "cells": [
  {
   "cell_type": "code",
   "execution_count": null,
   "metadata": {},
   "outputs": [],
   "source": [
    "from azureml.core import Workspace, Experiment, Run\n",
    "from azureml.train.estimator import Estimator\n",
    "from azureml.train.hyperdrive import HyperDriveRunConfig, PrimaryMetricGoal, BayesianParameterSampling, uniform"
   ]
  },
  {
   "cell_type": "code",
   "execution_count": null,
   "metadata": {},
   "outputs": [],
   "source": [
    "%%writefile train.py\n",
    "\n",
    "from azureml.core import Run\n",
    "import argparse\n",
    "import pandas as pd\n",
    "import numpy as np\n",
    "import matplotlib.pyplot as plt\n",
    "import seaborn as sns\n",
    "import os\n",
    "\n",
    "from sklearn.model_selection import train_test_split\n",
    "from sklearn.linear_model import ElasticNet\n",
    "from sklearn.metrics import mean_absolute_error, mean_squared_error, r2_score\n",
    "from sklearn.externals import joblib\n",
    "\n",
    "# Create logger from current context\n",
    "# If this is run in AML Compute, it will return the current run\n",
    "# If this runs locally, it'll only print metrics to standard out\n",
    "run = Run.get_context()\n",
    "\n",
    "def load_train_test_dataset(data_path, file_name):\n",
    "    # Load DF from CSV\n",
    "    diabetes_df = pd.read_csv(os.path.join(data_path, file_name))\n",
    "    \n",
    "    # Split out X and Y variables\n",
    "    y = diabetes_df.pop('target').values\n",
    "    X = diabetes_df.values\n",
    "    \n",
    "    # Split training and test datasets\n",
    "    X_train, X_test, y_train, y_test = train_test_split(X, y, test_size=0.2, random_state=0)\n",
    "    \n",
    "    print (f\"Data contains {len(X_train)} training samples and {len(X_test)} test samples\")\n",
    "    return X_train, X_test, y_train, y_test\n",
    "    \n",
    "def train_elasticnet(X, y, alpha, l1_ratio):\n",
    "    run.log('model_type', 'ElasticNet')\n",
    "\n",
    "    # Create a new model object\n",
    "    model = ElasticNet(alpha=alpha, l1_ratio=l1_ratio, copy_X=True, random_state=40760)\n",
    "    \n",
    "    # Fit the model and return\n",
    "    model.fit(X, y)\n",
    "\n",
    "    # Save model to \"outputs\" folder\n",
    "    os.makedirs('./outputs', exist_ok=True)\n",
    "    joblib.dump(value=model, filename='./outputs/model.pkl')\n",
    "\n",
    "    return model\n",
    "\n",
    "def predict_and_log_performance(model, X_test, y_test):\n",
    "    # Get the predicted values\n",
    "    preds = model.predict(X_test)\n",
    "    \n",
    "    # Log the metrics to the AML run\n",
    "    run.log(\"rmse\", np.sqrt(mean_squared_error(y_test, preds)))\n",
    "    run.log('mae', mean_absolute_error(y_test, preds))\n",
    "    run.log('r2', r2_score(y_test, preds))\n",
    "\n",
    "    return preds\n",
    "\n",
    "def plot_residuals(y, y_hat):\n",
    "    # Calc residuals\n",
    "    resids = y - y_hat\n",
    "    \n",
    "    # Generate a new Seaborn plot\n",
    "    fig = plt.figure()\n",
    "    sns.regplot(y, resids)\n",
    "    \n",
    "    # Change the axis labels\n",
    "    plt.xlabel(\"Actual Value\")\n",
    "    plt.ylabel(\"Residuals\")\n",
    "    \n",
    "    # Close the figure\n",
    "    plt.close(fig)\n",
    "\n",
    "    # Log to AML and return\n",
    "    run.log_image('residuals', plot=fig)\n",
    "    return fig\n",
    "\n",
    "    \n",
    "if __name__ == \"__main__\":\n",
    "    parser = argparse.ArgumentParser()\n",
    "    parser.add_argument('--data-path', '-d', type=str, required=True,\n",
    "                        help=\"The path where the data file is located\")\n",
    "    parser.add_argument('--alpha', '-a', type=float,\n",
    "                        help=\"The alpha value for training\", default=0.03)\n",
    "    parser.add_argument('--file-name', '-f', type=str, default='diabetes.csv',\n",
    "                        help=\"The file name of the diabetes csv dataset\")\n",
    "    parser.add_argument('--l1-ratio', type=float, default=0.05,\n",
    "                        help='The l1_ratio of the Scikit-Learn ElasticNet model')\n",
    "\n",
    "    args = parser.parse_args()\n",
    "    \n",
    "    X_train, X_test, y_train, y_test = load_train_test_dataset(args.data_path, args.file_name)\n",
    "\n",
    "    # log the hyperparameters\n",
    "    run.log('alpha', args.alpha)\n",
    "    run.log('l1_ratio', args.l1_ratio)\n",
    "    \n",
    "    # Train the model \n",
    "    model = train_elasticnet(X=X_train, \n",
    "                             y=y_train, \n",
    "                             alpha=args.alpha, \n",
    "                             l1_ratio=args.l1_ratio)\n",
    "\n",
    "    # Generate predictions\n",
    "    preds = predict_and_log_performance(model=model, \n",
    "                                        X_test=X_test, \n",
    "                                        y_test=y_test)\n",
    "    \n",
    "    # Plot the residuals\n",
    "    fig = plot_residuals(y_test, preds)"
   ]
  },
  {
   "cell_type": "markdown",
   "metadata": {},
   "source": [
    "## Test File Locally"
   ]
  },
  {
   "cell_type": "code",
   "execution_count": null,
   "metadata": {},
   "outputs": [],
   "source": [
    "%%cmd\n",
    "python train.py --data-path ../../data"
   ]
  },
  {
   "cell_type": "markdown",
   "metadata": {},
   "source": [
    "## Submit to AML Compute for Computation"
   ]
  },
  {
   "cell_type": "code",
   "execution_count": null,
   "metadata": {},
   "outputs": [],
   "source": [
    "experiment_name = 'diabetes_regression'\n",
    "ws = Workspace.from_config()\n",
    "\n",
    "# Attach to experiment\n",
    "experiment = Experiment(workspace=ws, name=experiment_name)"
   ]
  },
  {
   "cell_type": "code",
   "execution_count": null,
   "metadata": {},
   "outputs": [],
   "source": [
    "# Define the datastore being used and the cpu_cluster being used\n",
    "datastore = ws.datastores['diabetes']\n",
    "cpu_cluster = ws.compute_targets['cpu-cluster']\n"
   ]
  },
  {
   "cell_type": "code",
   "execution_count": null,
   "metadata": {},
   "outputs": [],
   "source": [
    "args = {\"--data-path\": datastore.as_mount()}\n",
    "\n",
    "est = Estimator(source_directory=\".\",\n",
    "                compute_target=cpu_cluster,\n",
    "                entry_script=\"train.py\",\n",
    "                script_params=args,\n",
    "                conda_packages=['scikit-learn', 'seaborn', 'pandas']\n",
    "                )"
   ]
  },
  {
   "cell_type": "code",
   "execution_count": null,
   "metadata": {},
   "outputs": [],
   "source": [
    "run = experiment.submit(est)"
   ]
  },
  {
   "cell_type": "code",
   "execution_count": null,
   "metadata": {},
   "outputs": [],
   "source": [
    "# the first time you run this, it might take a bit of time to build the container (took me 8 minutes in test)\n",
    "\n",
    "from azureml.widgets import RunDetails\n",
    "RunDetails(run).show()"
   ]
  },
  {
   "cell_type": "markdown",
   "metadata": {},
   "source": [
    "## Train Hyperparameters"
   ]
  },
  {
   "cell_type": "code",
   "execution_count": null,
   "metadata": {},
   "outputs": [],
   "source": [
    "sampled_params = BayesianParameterSampling({\n",
    "                        '--alpha': uniform(0, 1),\n",
    "                        '--l1-ratio': uniform(0, 1)\n",
    "                        })\n",
    "\n",
    "hyper_run_config = HyperDriveRunConfig(estimator=est,\n",
    "                                      hyperparameter_sampling=sampled_params,\n",
    "                                      primary_metric_name='rmse',\n",
    "                                      primary_metric_goal=PrimaryMetricGoal.MINIMIZE,\n",
    "                                      max_total_runs=15,\n",
    "                                      max_concurrent_runs=3)"
   ]
  },
  {
   "cell_type": "code",
   "execution_count": null,
   "metadata": {},
   "outputs": [],
   "source": [
    "hd_run = experiment.submit(hyper_run_config)\n",
    "RunDetails(hd_run).show()"
   ]
  },
  {
   "cell_type": "markdown",
   "metadata": {},
   "source": [
    "# Your Turn:\n",
    "Choose another Scikit Learn algorithm -  again check out [Scikit-Learn.ensemble](https://scikit-learn.org/stable/modules/classes.html#module-sklearn.ensemble) or [Scikit-Learn.linear_model](https://scikit-learn.org/stable/modules/classes.html#module-sklearn.linear_model) for other algorithm to try.\n",
    "\n",
    "__Challenge:__ Have the model type be a Hyperparameter that is set. _Hint: Check out `azureml.train.hyperdrive.choice`_"
   ]
  },
  {
   "cell_type": "code",
   "execution_count": null,
   "metadata": {},
   "outputs": [],
   "source": []
  }
 ],
 "metadata": {
  "kernelspec": {
   "display_name": "Python [conda env:azureml-sdk]",
   "language": "python",
   "name": "conda-env-azureml-sdk-py"
  },
  "language_info": {
   "codemirror_mode": {
    "name": "ipython",
    "version": 3
   },
   "file_extension": ".py",
   "mimetype": "text/x-python",
   "name": "python",
   "nbconvert_exporter": "python",
   "pygments_lexer": "ipython3",
   "version": "3.6.8"
  }
 },
 "nbformat": 4,
 "nbformat_minor": 2
}
