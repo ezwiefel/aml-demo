{
 "cells": [
  {
   "cell_type": "code",
   "execution_count": 1,
   "metadata": {},
   "outputs": [],
   "source": [
    "from azureml.core import Workspace, Experiment, Run\n",
    "from azureml.train.estimator import Estimator\n",
    "from azureml.train.hyperdrive import HyperDriveConfig, PrimaryMetricGoal, BayesianParameterSampling, uniform, choice"
   ]
  },
  {
   "cell_type": "markdown",
   "metadata": {},
   "source": [
    "## Test File Locally\n",
    "We've created a script file called `train.py` that will train our ML model for us. It accepts a few different paramters - such as we'll see by running `python train.py --help`\n",
    "\n",
    "We'll run the script locally to test if the script runs successfully. _Note: By default this will run in 'offline' mode - and nothing will actually be logged to AML. Instead, we'll see printed statements about `Attempted to log...`"
   ]
  },
  {
   "cell_type": "code",
   "execution_count": 2,
   "metadata": {},
   "outputs": [
    {
     "name": "stdout",
     "output_type": "stream",
     "text": [
      "usage: train.py [-h] --data-path DATA_PATH [--alpha ALPHA]\n",
      "                [--file-name FILE_NAME] [--l1-ratio L1_RATIO]\n",
      "                [--learning-rate LEARNING_RATE] [--model-name MODEL_NAME]\n",
      "\n",
      "optional arguments:\n",
      "  -h, --help            show this help message and exit\n",
      "  --data-path DATA_PATH, -d DATA_PATH\n",
      "                        The path where the data file is located\n",
      "  --alpha ALPHA, -a ALPHA\n",
      "                        The alpha value for training\n",
      "  --file-name FILE_NAME, -f FILE_NAME\n",
      "                        The file name of the diabetes csv dataset\n",
      "  --l1-ratio L1_RATIO   The l1_ratio of the Scikit-Learn ElasticNet model\n",
      "  --learning-rate LEARNING_RATE, -l LEARNING_RATE\n",
      "                        The learning rate for the GBT model\n",
      "  --model-name MODEL_NAME, -n MODEL_NAME\n",
      "                        The name of the model to try. Supported calues are\n",
      "                        'ridge', 'elastic', and 'gbt'\n",
      "\n",
      "Note: you may need to restart the kernel to use updated packages.\n"
     ]
    }
   ],
   "source": [
    "%conda run -n py36 python train.py --help"
   ]
  },
  {
   "cell_type": "code",
   "execution_count": 3,
   "metadata": {},
   "outputs": [
    {
     "name": "stdout",
     "output_type": "stream",
     "text": [
      "Data contains 353 training samples and 89 test samples\n",
      "Attempted to log scalar metric alpha:\n",
      "0.03\n",
      "Attempted to log scalar metric model_type:\n",
      "Ridge\n",
      "100%|███████████████████████████████████████████| 89/89 [00:06<00:00, 14.87it/s]\n",
      "ExplanationClient.upload_model_explanation called.\n",
      "Attempted to log scalar metric rmse:\n",
      "58.52264788862529\n",
      "Attempted to log scalar metric mae:\n",
      "46.08348217820383\n",
      "Attempted to log scalar metric r2:\n",
      "0.33210821912058\n",
      "Attempted to log image metric residuals-v-actuals:\n",
      "Figure(640x480)\n",
      "Attempted to log image metric residuals-histogram:\n",
      "Figure(640x480)\n",
      "Attempted to log image metric prediction-v-actual:\n",
      "Figure(640x480)\n",
      "\n",
      "Note: you may need to restart the kernel to use updated packages.\n"
     ]
    }
   ],
   "source": [
    "%conda run -n py36 python train.py --data-path ../../data"
   ]
  },
  {
   "cell_type": "markdown",
   "metadata": {},
   "source": [
    "## Submit to AML Compute for Computation"
   ]
  },
  {
   "cell_type": "code",
   "execution_count": 4,
   "metadata": {},
   "outputs": [],
   "source": [
    "experiment_name = 'diabetes_regression'\n",
    "ws = Workspace.from_config()\n",
    "\n",
    "# Attach to experiment\n",
    "experiment = Experiment(workspace=ws, name=experiment_name)"
   ]
  },
  {
   "cell_type": "code",
   "execution_count": 5,
   "metadata": {},
   "outputs": [],
   "source": [
    "# Define the datastore being used and the cpu_cluster being used\n",
    "datastore = ws.datastores['diabetes']\n",
    "cpu_cluster = ws.compute_targets['cpu-cluster']"
   ]
  },
  {
   "cell_type": "code",
   "execution_count": 6,
   "metadata": {},
   "outputs": [],
   "source": [
    "args = {\"--data-path\": datastore.as_mount()}\n",
    "\n",
    "est = Estimator(source_directory=\".\",\n",
    "                compute_target=cpu_cluster,\n",
    "                entry_script=\"train.py\",\n",
    "                script_params=args,\n",
    "                conda_packages=['scikit-learn', 'seaborn', 'pandas'],\n",
    "                pip_packages=['azureml-defaults', 'azureml-contrib-explain-model', 'azureml-explain-model']\n",
    "                )"
   ]
  },
  {
   "cell_type": "code",
   "execution_count": 7,
   "metadata": {},
   "outputs": [],
   "source": [
    "run = experiment.submit(est)"
   ]
  },
  {
   "cell_type": "code",
   "execution_count": 8,
   "metadata": {},
   "outputs": [
    {
     "data": {
      "application/vnd.jupyter.widget-view+json": {
       "model_id": "abdf6a3d5ff14b078e6737f757ef9676",
       "version_major": 2,
       "version_minor": 0
      },
      "text/plain": [
       "_UserRunWidget(widget_settings={'childWidgetDisplay': 'popup', 'send_telemetry': False, 'log_level': 'INFO', '…"
      ]
     },
     "metadata": {},
     "output_type": "display_data"
    }
   ],
   "source": [
    "# the first time you run this, it might take a bit of time to build the container (took me 8 minutes in test)\n",
    "\n",
    "from azureml.widgets import RunDetails\n",
    "RunDetails(run).show()"
   ]
  },
  {
   "cell_type": "markdown",
   "metadata": {},
   "source": [
    "## Train Hyperparameters"
   ]
  },
  {
   "cell_type": "code",
   "execution_count": 11,
   "metadata": {},
   "outputs": [
    {
     "name": "stderr",
     "output_type": "stream",
     "text": [
      "For best results with Bayesian Sampling we recommend using a maximum number of runs greater than or equal to 20 times the number of hyperparameters being tuned. Current value for max_total_runs:50. Recommendend value:80.\n"
     ]
    }
   ],
   "source": [
    "sampled_params = BayesianParameterSampling({\n",
    "                        '--alpha': uniform(0, 1),\n",
    "                        '--l1-ratio': uniform(0, 1),\n",
    "                        '--model-name': choice('ridge', 'elastic', 'gbt'),\n",
    "                        '--learning-rate': uniform(0, 1)\n",
    "                        })\n",
    "\n",
    "hyper_run_config = HyperDriveConfig(estimator=est,\n",
    "                                      hyperparameter_sampling=sampled_params,\n",
    "                                      primary_metric_name='rmse',\n",
    "                                      primary_metric_goal=PrimaryMetricGoal.MINIMIZE,\n",
    "                                      max_total_runs=50,\n",
    "                                      max_concurrent_runs=5)"
   ]
  },
  {
   "cell_type": "code",
   "execution_count": null,
   "metadata": {},
   "outputs": [],
   "source": [
    "hd_run = experiment.submit(hyper_run_config)"
   ]
  },
  {
   "cell_type": "code",
   "execution_count": 13,
   "metadata": {},
   "outputs": [
    {
     "data": {
      "application/vnd.jupyter.widget-view+json": {
       "model_id": "bff612e2b903445abc47c32d9c854fa2",
       "version_major": 2,
       "version_minor": 0
      },
      "text/plain": [
       "_HyperDriveWidget(widget_settings={'childWidgetDisplay': 'popup', 'send_telemetry': False, 'log_level': 'INFO'…"
      ]
     },
     "metadata": {},
     "output_type": "display_data"
    }
   ],
   "source": [
    "RunDetails(hd_run).show()"
   ]
  },
  {
   "cell_type": "code",
   "execution_count": null,
   "metadata": {},
   "outputs": [],
   "source": []
  }
 ],
 "metadata": {
  "kernelspec": {
   "display_name": "Python 3.6 - AzureML",
   "language": "python",
   "name": "python3-azureml"
  },
  "language_info": {
   "codemirror_mode": {
    "name": "ipython",
    "version": 3
   },
   "file_extension": ".py",
   "mimetype": "text/x-python",
   "name": "python",
   "nbconvert_exporter": "python",
   "pygments_lexer": "ipython3",
   "version": "3.6.8"
  }
 },
 "nbformat": 4,
 "nbformat_minor": 2
}
